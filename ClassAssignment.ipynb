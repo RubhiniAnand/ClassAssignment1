{
 "cells": [
  {
   "cell_type": "code",
   "execution_count": 3,
   "id": "09775bf4",
   "metadata": {},
   "outputs": [],
   "source": [
    "class SubFieldsInAI():\n",
    "    def Subfields():\n",
    "        elements=[\"Machine Learning\",\"Neural Networks\",\"Vision\",\"Robotics\",\"Speech Processing\",\"Natural Language Processing\"]\n",
    "        print(\"Subfields in AI are:\")\n",
    "        for ele in elements:\n",
    "            print(ele)\n",
    "        return ele"
   ]
  },
  {
   "cell_type": "code",
   "execution_count": 5,
   "id": "233a9fb2",
   "metadata": {},
   "outputs": [
    {
     "name": "stdout",
     "output_type": "stream",
     "text": [
      "Subfields in AI are:\n",
      "Machine Learning\n",
      "Neural Networks\n",
      "Vision\n",
      "Robotics\n",
      "Speech Processing\n",
      "Natural Language Processing\n"
     ]
    }
   ],
   "source": [
    "SubFieldsInAI.Subfields()"
   ]
  },
  {
   "cell_type": "code",
   "execution_count": 7,
   "id": "66f17a24",
   "metadata": {},
   "outputs": [],
   "source": [
    "class OddEVEN():\n",
    "    def OddEven():\n",
    "        num=int(input(\"Enter a Number:\"))\n",
    "        if((num%2)==0):\n",
    "            print(num,\"is even number\")\n",
    "            result=\"even number\"\n",
    "        else:\n",
    "            print(num,\"is odd number\")\n",
    "            result=\"odd number\"\n",
    "            return result"
   ]
  },
  {
   "cell_type": "code",
   "execution_count": 8,
   "id": "ae538915",
   "metadata": {},
   "outputs": [
    {
     "name": "stdout",
     "output_type": "stream",
     "text": [
      "Enter a Number:32\n",
      "32 is even number\n"
     ]
    }
   ],
   "source": [
    "OddEVEN.OddEven()"
   ]
  },
  {
   "cell_type": "code",
   "execution_count": 21,
   "id": "b9b0586b",
   "metadata": {},
   "outputs": [],
   "source": [
    "class EligibleforMarriage():\n",
    "    def Eligible():\n",
    "        gen=input(\"Your Gender:\")\n",
    "        age=int(input(\"Your age:\"))\n",
    "        if(gen==\"male\" and age>=21):\n",
    "            print(\"Eligible\")\n",
    "            status=\"Eligible\"\n",
    "        if(gen==\"Female\" and age>=18):\n",
    "            print(\"Eligible\")\n",
    "            status=\"Eligible\"\n",
    "        else:\n",
    "            print(\"Not Eligible\")\n",
    "            status=\"Not Eligible\"\n",
    "            return status"
   ]
  },
  {
   "cell_type": "code",
   "execution_count": 23,
   "id": "4de02ec3",
   "metadata": {},
   "outputs": [
    {
     "name": "stdout",
     "output_type": "stream",
     "text": [
      "Your Gender:male\n",
      "Your age:21\n",
      "Eligible\n",
      "Not Eligible\n"
     ]
    },
    {
     "data": {
      "text/plain": [
       "'Not Eligible'"
      ]
     },
     "execution_count": 23,
     "metadata": {},
     "output_type": "execute_result"
    }
   ],
   "source": [
    "EligibleforMarriage.Eligible()"
   ]
  },
  {
   "cell_type": "code",
   "execution_count": 33,
   "id": "ccd32b9e",
   "metadata": {},
   "outputs": [],
   "source": [
    "class FindPercentage():\n",
    "    def Percentage():\n",
    "        s1=int(input(\"Subject1:\"))\n",
    "        s2=int(input(\"Subject2:\"))\n",
    "        s3=int(input(\"Subject3;\"))\n",
    "        s4=int(input(\"Subject4:\"))\n",
    "        s5=int(input(\"Subject5:\"))\n",
    "        total=s1+s2+s3+s4+s5\n",
    "        per=(total/500.0)*100\n",
    "        print(\"Total:\",total)\n",
    "        print(\"Percentage:\",per)\n",
    "        return total,per\n",
    "        percentageOfMarks=Percentage()"
   ]
  },
  {
   "cell_type": "code",
   "execution_count": 32,
   "id": "ef4e2822",
   "metadata": {},
   "outputs": [
    {
     "name": "stdout",
     "output_type": "stream",
     "text": [
      "Subject1:45\n",
      "Subject2:55\n",
      "Subject3;65\n",
      "Subject4:75\n",
      "Subject5:85\n",
      "Total: 325\n",
      "Percentage: 65.0\n"
     ]
    },
    {
     "data": {
      "text/plain": [
       "(325, 65.0)"
      ]
     },
     "execution_count": 32,
     "metadata": {},
     "output_type": "execute_result"
    }
   ],
   "source": [
    "FindPercentage.Percentage()"
   ]
  },
  {
   "cell_type": "code",
   "execution_count": 41,
   "id": "35bce8d2",
   "metadata": {},
   "outputs": [],
   "source": [
    "class TRIANGLE():\n",
    "    def triangle():\n",
    "            h=int(input(\"Height:\"))\n",
    "            b=int(input(\"Breadth:\"))\n",
    "            h1=int(input(\"Height1:\"))\n",
    "            h2=int(input(\"Height2:\"))\n",
    "            b1=int(input(\"Breadth1:\"))\n",
    "            perimeter=h1+h2+b1\n",
    "            area=(h*b)/2\n",
    "            print(\"Area of a triangle=\",area)\n",
    "            print(\"Perimeter of a triangle=\",perimeter)\n",
    "            return area,perimeter"
   ]
  },
  {
   "cell_type": "code",
   "execution_count": 42,
   "id": "38cf33d6",
   "metadata": {},
   "outputs": [
    {
     "name": "stdout",
     "output_type": "stream",
     "text": [
      "Height:8\n",
      "Breadth:4\n",
      "Height1:8\n",
      "Height2:12\n",
      "Breadth1:6\n",
      "Area of a triangle= 16.0\n",
      "Perimeter of a triangle= 26\n"
     ]
    },
    {
     "data": {
      "text/plain": [
       "(16.0, 26)"
      ]
     },
     "execution_count": 42,
     "metadata": {},
     "output_type": "execute_result"
    }
   ],
   "source": [
    "TRIANGLE.triangle()"
   ]
  },
  {
   "cell_type": "code",
   "execution_count": null,
   "id": "a5ba3d4b",
   "metadata": {},
   "outputs": [],
   "source": []
  },
  {
   "cell_type": "code",
   "execution_count": null,
   "id": "d01470d2",
   "metadata": {},
   "outputs": [],
   "source": []
  }
 ],
 "metadata": {
  "kernelspec": {
   "display_name": "Python 3 (ipykernel)",
   "language": "python",
   "name": "python3"
  },
  "language_info": {
   "codemirror_mode": {
    "name": "ipython",
    "version": 3
   },
   "file_extension": ".py",
   "mimetype": "text/x-python",
   "name": "python",
   "nbconvert_exporter": "python",
   "pygments_lexer": "ipython3",
   "version": "3.11.4"
  }
 },
 "nbformat": 4,
 "nbformat_minor": 5
}
